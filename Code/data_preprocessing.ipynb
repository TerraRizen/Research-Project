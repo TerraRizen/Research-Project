{
 "cells": [
  {
   "cell_type": "markdown",
   "id": "02859ec5",
   "metadata": {},
   "source": [
    "# KITTI Dataset"
   ]
  },
  {
   "cell_type": "code",
   "execution_count": null,
   "id": "103abe2a",
   "metadata": {},
   "outputs": [],
   "source": [
    "import numpy as np\n",
    "import cv2\n",
    "from pathlib import Path\n",
    "from tqdm import tqdm"
   ]
  },
  {
   "cell_type": "markdown",
   "id": "788146a7",
   "metadata": {},
   "source": [
    "## Data Preprocessing - SGM disparity maps"
   ]
  },
  {
   "cell_type": "code",
   "execution_count": 8,
   "id": "a035338c",
   "metadata": {},
   "outputs": [],
   "source": [
    "def center_crop_to_square(img):\n",
    "    h, w = img.shape\n",
    "    crop_size = min(h, w)\n",
    "    start_x = (w - crop_size) // 2\n",
    "    start_y = (h - crop_size) // 2\n",
    "    return img[start_y:start_y + crop_size, start_x:start_x + crop_size]\n",
    "\n",
    "def generate_sgm_disparity_map(left_img_path, right_img_path, output_size=(64, 64), num_disparities=64):\n",
    "    left_img = cv2.imread(str(left_img_path), cv2.IMREAD_GRAYSCALE)\n",
    "    right_img = cv2.imread(str(right_img_path), cv2.IMREAD_GRAYSCALE)\n",
    "\n",
    "    window_size = 5\n",
    "    min_disp = 0\n",
    "    num_disp = (num_disparities // 16) * 16\n",
    "    stereo = cv2.StereoSGBM_create(\n",
    "        minDisparity=min_disp,\n",
    "        numDisparities=num_disp,\n",
    "        blockSize=5,\n",
    "        P1=8 * 1 * window_size ** 2,\n",
    "        P2=32 * 1 * window_size ** 2,\n",
    "        disp12MaxDiff=1,\n",
    "        uniquenessRatio=10,\n",
    "        speckleWindowSize=100,\n",
    "        speckleRange=32,\n",
    "        preFilterCap=63,\n",
    "        mode=cv2.STEREO_SGBM_MODE_SGBM_3WAY\n",
    "    )\n",
    "\n",
    "    disparity = stereo.compute(left_img, right_img).astype(np.float32) / 16.0\n",
    "    disparity[disparity < min_disp] = -1\n",
    "\n",
    "    disparity = center_crop_to_square(disparity)\n",
    "    disparity_resized = cv2.resize(disparity, output_size, interpolation=cv2.INTER_NEAREST)\n",
    "\n",
    "    return disparity_resized\n",
    "\n",
    "def process_stereo_sequence(left_dir, right_dir, output_dir, output_size=(64, 64)):\n",
    "    left_dir = Path(left_dir)\n",
    "    right_dir = Path(right_dir)\n",
    "    output_depth_dir = Path(output_dir) / \"depths\"\n",
    "    output_image_dir = Path(output_dir) / \"images\"\n",
    "    output_depth_dir.mkdir(parents=True, exist_ok=True)\n",
    "    output_image_dir.mkdir(parents=True, exist_ok=True)\n",
    "\n",
    "    left_images = sorted(left_dir.glob(\"*.png\"))\n",
    "    right_images = sorted(right_dir.glob(\"*.png\"))\n",
    "\n",
    "    for l_path, r_path in tqdm(zip(left_images, right_images), total=len(left_images), desc=f\"Processing {left_dir.parent.parent.name}\"):\n",
    "        if l_path.stem != r_path.stem:\n",
    "            print(f\"Skipping mismatched pair: {l_path.name} vs {r_path.name}\")\n",
    "            continue\n",
    "\n",
    "        try:\n",
    "            disparity = generate_sgm_disparity_map(l_path, r_path, output_size)\n",
    "            np.save(output_depth_dir / f\"{l_path.stem}.npy\", disparity)\n",
    "\n",
    "            left_img = cv2.imread(str(l_path), cv2.IMREAD_GRAYSCALE)\n",
    "            left_img = center_crop_to_square(left_img)\n",
    "            left_resized = cv2.resize(left_img, output_size, interpolation=cv2.INTER_AREA)\n",
    "            cv2.imwrite(str(output_image_dir / f\"{l_path.stem}.png\"), left_resized)\n",
    "\n",
    "        except Exception as e:\n",
    "            print(f\"Error processing {l_path.name}: {e}\")"
   ]
  },
  {
   "cell_type": "code",
   "execution_count": null,
   "id": "35036d18",
   "metadata": {},
   "outputs": [],
   "source": [
    "BASE_DIR = Path(r\"\") # Change this to be a path to your raw KITTI data. You will need the calibrated data.\n",
    "OUTPUT_BASE = Path(r\"SGM_Full\") # This is the name of the folder where your preprocessed images and disparity maps will be saved.\n",
    "for recording_dir in BASE_DIR.iterdir():\n",
    "    if not recording_dir.is_dir():\n",
    "        continue\n",
    "\n",
    "    left_path = recording_dir / \"image_02\" / \"data\"\n",
    "    right_path = recording_dir / \"image_03\" / \"data\"\n",
    "\n",
    "    if left_path.exists() and right_path.exists():\n",
    "        recording_name = recording_dir.name\n",
    "        output_dir = OUTPUT_BASE / recording_name\n",
    "        process_stereo_sequence(left_path, right_path, output_dir, output_size=(64, 64))\n",
    "    else:\n",
    "        print(f\"Skipping {recording_dir.name}, missing image_02 or image_03 directories.\")"
   ]
  }
 ],
 "metadata": {
  "kernelspec": {
   "display_name": "tf2",
   "language": "python",
   "name": "python3"
  },
  "language_info": {
   "codemirror_mode": {
    "name": "ipython",
    "version": 3
   },
   "file_extension": ".py",
   "mimetype": "text/x-python",
   "name": "python",
   "nbconvert_exporter": "python",
   "pygments_lexer": "ipython3",
   "version": "3.9.21"
  }
 },
 "nbformat": 4,
 "nbformat_minor": 5
}
